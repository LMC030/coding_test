{
 "cells": [
  {
   "cell_type": "markdown",
   "id": "01576000",
   "metadata": {},
   "source": [
    "# 문자열"
   ]
  },
  {
   "cell_type": "code",
   "execution_count": 45,
   "id": "51efaa1c",
   "metadata": {},
   "outputs": [
    {
     "name": "stdout",
     "output_type": "stream",
     "text": [
      "A\n",
      "65\n"
     ]
    }
   ],
   "source": [
    "# 단계 1, 11654, 아스키코드\n",
    "print(ord(input()))"
   ]
  },
  {
   "cell_type": "code",
   "execution_count": 25,
   "id": "80032538",
   "metadata": {},
   "outputs": [
    {
     "name": "stdout",
     "output_type": "stream",
     "text": [
      "25\n",
      "7000000000000000000000000\n",
      "['7', '0', '0', '0', '0', '0', '0', '0', '0', '0', '0', '0', '0', '0', '0', '0', '0', '0', '0', '0', '0', '0', '0', '0', '0']\n",
      "7\n"
     ]
    }
   ],
   "source": [
    "# 단계 2, 11720, 숫자의 합\n",
    "n = int(input())\n",
    "l = list(input())\n",
    "result = 0\n",
    "for i in range(n):\n",
    "    result += int(l[i])\n",
    "print(result)"
   ]
  },
  {
   "cell_type": "code",
   "execution_count": 27,
   "id": "06cf25a7",
   "metadata": {},
   "outputs": [
    {
     "name": "stdout",
     "output_type": "stream",
     "text": [
      "baekjoon\n",
      "1 0 -1 -1 2 -1 -1 -1 -1 4 3 -1 -1 7 5 -1 -1 -1 -1 -1 -1 -1 -1 -1 -1 -1\n"
     ]
    }
   ],
   "source": [
    "# 단계 3, 10809, 알파벳 찾기\n",
    "s = list(input())\n",
    "l = [-1 for i in range(26)]\n",
    "for i in range(len(s)-1, -1, -1):\n",
    "    l[ord(s[i])-97] = i \n",
    "print(*l)"
   ]
  },
  {
   "cell_type": "code",
   "execution_count": 34,
   "id": "30a5cc67",
   "metadata": {},
   "outputs": [
    {
     "name": "stdout",
     "output_type": "stream",
     "text": [
      "2\n",
      "3 ABC\n",
      "AAABBBCCC\n",
      "5 /HTP\n",
      "/////HHHHHTTTTTPPPPP\n"
     ]
    }
   ],
   "source": [
    "# 단계 4, 2675, 문자열 반복\n",
    "t = int(input())\n",
    "for k in range(t):\n",
    "    p = ''\n",
    "    s = list(input())\n",
    "    for i in range(2, len(s)):\n",
    "        p += s[i]*int(s[0])\n",
    "    print(p)"
   ]
  },
  {
   "cell_type": "code",
   "execution_count": 19,
   "id": "f0cd6ada",
   "metadata": {},
   "outputs": [
    {
     "ename": "SyntaxError",
     "evalue": "cannot assign to function call (Temp/ipykernel_11016/3415394268.py, line 4)",
     "output_type": "error",
     "traceback": [
      "\u001b[1;36m  File \u001b[1;32m\"C:\\Users\\leemc\\AppData\\Local\\Temp/ipykernel_11016/3415394268.py\"\u001b[1;36m, line \u001b[1;32m4\u001b[0m\n\u001b[1;33m    for i in s: s_d.keys(i) += 1\u001b[0m\n\u001b[1;37m                ^\u001b[0m\n\u001b[1;31mSyntaxError\u001b[0m\u001b[1;31m:\u001b[0m cannot assign to function call\n"
     ]
    }
   ],
   "source": [
    "# 단계 5, 1157, 단어 공부\n",
    "s = input().upper()\n",
    "s_count = [s.count(i) for i in set(s)]\n",
    "index = s_count.index(max(s_count))\n",
    "for i in range(index+1, len(s_count)):\n",
    "    if s_count[i] == max(s_count): index = \"?\"\n",
    "print(list(set(s))[index] if type(index)==int else index) "
   ]
  },
  {
   "cell_type": "code",
   "execution_count": 23,
   "id": "c36ab428",
   "metadata": {},
   "outputs": [
    {
     "name": "stdout",
     "output_type": "stream",
     "text": [
      "The last character is a blank \n",
      "6\n"
     ]
    }
   ],
   "source": [
    "# 단계 6, 1152, 단어의 개수\n",
    "print(len(list(map(str, input().split()))))"
   ]
  },
  {
   "cell_type": "code",
   "execution_count": 44,
   "id": "ad84ab7b",
   "metadata": {},
   "outputs": [
    {
     "name": "stdout",
     "output_type": "stream",
     "text": [
      "734 893\n",
      "437\n"
     ]
    }
   ],
   "source": [
    "# 단계 7, 2908, 상수\n",
    "nums = [int(i[::-1]) for i in list(map(str, input().split()))]\n",
    "print(max(nums))"
   ]
  },
  {
   "cell_type": "code",
   "execution_count": 64,
   "id": "b8eba5af",
   "metadata": {},
   "outputs": [
    {
     "name": "stdout",
     "output_type": "stream",
     "text": [
      "WA\n",
      "13\n"
     ]
    }
   ],
   "source": [
    "# 단계 8, 5622, 다이얼\n",
    "dier = [\"operator\", \"none\",\"ABC\",\"DEF\",\"GHI\",\"JKL\",\"MNO\",\"PQRS\",\"TUV\",\"WXYZ\"]\n",
    "string = list(input())\n",
    "seconds = len(string)\n",
    "for s in string:\n",
    "    for i in range(len(dier)):\n",
    "        if s in str(dier[i]):\n",
    "            seconds += i\n",
    "print(seconds)"
   ]
  },
  {
   "cell_type": "code",
   "execution_count": 76,
   "id": "66bbb5e4",
   "metadata": {},
   "outputs": [
    {
     "name": "stdout",
     "output_type": "stream",
     "text": [
      "dz=ak\n",
      "<class 'str'>\n",
      "<class 'str'>\n",
      "<class 'str'>\n",
      "result = 1, word =  ak, ca = dz=\n",
      "<class 'str'>\n",
      "<class 'str'>\n",
      "<class 'str'>\n",
      "<class 'str'>\n",
      "<class 'str'>\n",
      "3\n"
     ]
    }
   ],
   "source": [
    "# 단계 9, 2941, 크로아티아 알파벳\n",
    "CA = [\"c=\", \"c-\", \"dz=\", \"d-\", \"lj\", \"nj\", \"s=\", \"z=\"]\n",
    "word = input()\n",
    "result = 0\n",
    "for ca in CA:\n",
    "    if ca in word:\n",
    "        word = word.replace(ca, \" \")\n",
    "        result += 1\n",
    "print(len(word))"
   ]
  },
  {
   "cell_type": "code",
   "execution_count": 119,
   "id": "f0287d4d",
   "metadata": {},
   "outputs": [
    {
     "name": "stdout",
     "output_type": "stream",
     "text": [
      "2\n",
      "yzyzy\n",
      "zyzyz\n",
      "0\n"
     ]
    }
   ],
   "source": [
    "# 단계 10, 1316, 그룹 단어 체커\n",
    "n = int(input())\n",
    "for k in range(n):\n",
    "    word = input()\n",
    "    for w in set(word):\n",
    "        for j in range(len(word), 1, -1):\n",
    "            if str(w*j) in word:\n",
    "                word = word.replace(str(w*j), w)\n",
    "    if len(word) != len(set(word)): n -= 1\n",
    "print(n)"
   ]
  }
 ],
 "metadata": {
  "kernelspec": {
   "display_name": "Python 3 (ipykernel)",
   "language": "python",
   "name": "python3"
  },
  "language_info": {
   "codemirror_mode": {
    "name": "ipython",
    "version": 3
   },
   "file_extension": ".py",
   "mimetype": "text/x-python",
   "name": "python",
   "nbconvert_exporter": "python",
   "pygments_lexer": "ipython3",
   "version": "3.8.11"
  }
 },
 "nbformat": 4,
 "nbformat_minor": 5
}
