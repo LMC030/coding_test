{
 "cells": [
  {
   "cell_type": "markdown",
   "id": "30a8d025",
   "metadata": {},
   "source": [
    "# 문자열"
   ]
  },
  {
   "cell_type": "code",
   "execution_count": 26,
   "id": "32f453b0",
   "metadata": {},
   "outputs": [
    {
     "name": "stdout",
     "output_type": "stream",
     "text": [
      "a\n",
      "97\n"
     ]
    }
   ],
   "source": [
    "# 단계 1, 11654, 아스키코드\n",
    "print(ord(input()))"
   ]
  },
  {
   "cell_type": "code",
   "execution_count": 25,
   "id": "73fd879a",
   "metadata": {},
   "outputs": [
    {
     "name": "stdout",
     "output_type": "stream",
     "text": [
      "25\n",
      "7000000000000000000000000\n",
      "['7', '0', '0', '0', '0', '0', '0', '0', '0', '0', '0', '0', '0', '0', '0', '0', '0', '0', '0', '0', '0', '0', '0', '0', '0']\n",
      "7\n"
     ]
    }
   ],
   "source": [
    "# 단계 2, 11720, 숫자의 합\n",
    "n = int(input())\n",
    "l = list(input())\n",
    "result = 0\n",
    "for i in range(n):\n",
    "    result += int(l[i])\n",
    "print(result)"
   ]
  },
  {
   "cell_type": "code",
   "execution_count": 27,
   "id": "72acbd7a",
   "metadata": {},
   "outputs": [
    {
     "name": "stdout",
     "output_type": "stream",
     "text": [
      "baekjoon\n",
      "1 0 -1 -1 2 -1 -1 -1 -1 4 3 -1 -1 7 5 -1 -1 -1 -1 -1 -1 -1 -1 -1 -1 -1\n"
     ]
    }
   ],
   "source": [
    "# 단계 3, 10809, 알파벳 찾기\n",
    "s = list(input())\n",
    "l = [-1 for i in range(26)]\n",
    "for i in range(len(s)-1, -1, -1):\n",
    "    l[ord(s[i])-97] = i \n",
    "print(*l)"
   ]
  },
  {
   "cell_type": "code",
   "execution_count": 33,
   "id": "b56ff6da",
   "metadata": {},
   "outputs": [
    {
     "name": "stdout",
     "output_type": "stream",
     "text": [
      "2\n",
      "3 ABC\n",
      "AAABBBCCC\n",
      "5 /HTP\n",
      "/////HHHHHTTTTTPPPPP\n"
     ]
    }
   ],
   "source": [
    "# 단계 4, 2675, 문자열 반복\n",
    "t = int(input())\n",
    "for k in range(t):\n",
    "    p = ''\n",
    "    s = list(input())\n",
    "    for i in range(2, len(s)):\n",
    "        p += s[i]*int(s[0])\n",
    "    print(p)"
   ]
  },
  {
   "cell_type": "code",
   "execution_count": null,
   "id": "2e0cb603",
   "metadata": {},
   "outputs": [],
   "source": [
    "# 단계 5, "
   ]
  },
  {
   "cell_type": "code",
   "execution_count": null,
   "id": "f7dcf7d5",
   "metadata": {},
   "outputs": [],
   "source": [
    "# 단계 6, "
   ]
  }
 ],
 "metadata": {
  "kernelspec": {
   "display_name": "Python 3 (ipykernel)",
   "language": "python",
   "name": "python3"
  },
  "language_info": {
   "codemirror_mode": {
    "name": "ipython",
    "version": 3
   },
   "file_extension": ".py",
   "mimetype": "text/x-python",
   "name": "python",
   "nbconvert_exporter": "python",
   "pygments_lexer": "ipython3",
   "version": "3.8.11"
  }
 },
 "nbformat": 4,
 "nbformat_minor": 5
}
