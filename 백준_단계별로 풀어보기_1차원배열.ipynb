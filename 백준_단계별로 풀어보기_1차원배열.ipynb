{
 "cells": [
  {
   "cell_type": "markdown",
   "id": "bbd3b1ab",
   "metadata": {},
   "source": [
    "# 1차원 배열"
   ]
  },
  {
   "cell_type": "code",
   "execution_count": 1,
   "id": "235482bd",
   "metadata": {},
   "outputs": [
    {
     "name": "stdout",
     "output_type": "stream",
     "text": [
      "5\n",
      "20 10 35 30 7\n",
      "7 35\n"
     ]
    }
   ],
   "source": [
    "# 단계 1, 10818, 최소,최대\n",
    "n = int(input())\n",
    "list_ = list(map(int, input().split()))\n",
    "print(f'{min(list_)} {max(list_)}') "
   ]
  },
  {
   "cell_type": "code",
   "execution_count": 2,
   "id": "e7f3552e",
   "metadata": {},
   "outputs": [
    {
     "name": "stdout",
     "output_type": "stream",
     "text": [
      "3\n",
      "29\n",
      "38\n",
      "12\n",
      "57\n",
      "74\n",
      "40\n",
      "85\n",
      "61\n",
      "85\n",
      "8\n"
     ]
    }
   ],
   "source": [
    "# 단계 2, 2562, 최댓값\n",
    "list_ = []\n",
    "for i in range(9):\n",
    "    k = int(input())\n",
    "    list_.append(k)\n",
    "print(f'{max(list_)}\\n{int(list_.index(max(list_)))+1}')"
   ]
  },
  {
   "cell_type": "code",
   "execution_count": 3,
   "id": "137b6189",
   "metadata": {},
   "outputs": [
    {
     "name": "stdout",
     "output_type": "stream",
     "text": [
      "150\n",
      "266\n",
      "427\n",
      "3\n",
      "1\n",
      "0\n",
      "2\n",
      "0\n",
      "0\n",
      "0\n",
      "2\n",
      "0\n",
      "0\n"
     ]
    }
   ],
   "source": [
    "# 단계 3, 2577, 숫자의 개수\n",
    "a = int(input())\n",
    "b = int(input())\n",
    "c = int(input())\n",
    "abc = list(str(a*b*c))\n",
    "result = [0 for i in range(10)]\n",
    "for i in range(10):\n",
    "    for num in abc:\n",
    "        if num == str(i):\n",
    "            result[i] += 1\n",
    "    print(result[i])"
   ]
  },
  {
   "cell_type": "code",
   "execution_count": 4,
   "id": "837b8a48",
   "metadata": {},
   "outputs": [
    {
     "name": "stdout",
     "output_type": "stream",
     "text": [
      "39\n",
      "40\n",
      "41\n",
      "42\n",
      "43\n",
      "44\n",
      "82\n",
      "83\n",
      "84\n",
      "85\n",
      "6\n"
     ]
    }
   ],
   "source": [
    "# 단계 4, 3052, 나머지\n",
    "num = [int(input())%42 for i in range(10)]\n",
    "print(len(set(num)))"
   ]
  },
  {
   "cell_type": "code",
   "execution_count": 5,
   "id": "16c45cfb",
   "metadata": {},
   "outputs": [
    {
     "name": "stdout",
     "output_type": "stream",
     "text": [
      "3\n",
      "10 20 30\n",
      "66.66666666666666\n"
     ]
    }
   ],
   "source": [
    "# 단계 5, 1564, 평균\n",
    "n = int(input())\n",
    "l = list((map(int, input().split())))\n",
    "print(sum(l)/n/max(l)*100)"
   ]
  },
  {
   "cell_type": "code",
   "execution_count": 6,
   "id": "563306d7",
   "metadata": {},
   "outputs": [
    {
     "name": "stdout",
     "output_type": "stream",
     "text": [
      "5\n",
      "OOXXOXXOOO\n",
      "10\n",
      "OOXXOOXXOO\n",
      "9\n",
      "OXOXOXOXOXOXOX\n",
      "7\n",
      "OOOOOOOOOO\n",
      "55\n",
      "OOOOXOOOOXOOOOX\n",
      "30\n"
     ]
    }
   ],
   "source": [
    "# 단계 6, 8958, OX퀴즈\n",
    "# X가 나온 index = x\n",
    "n = int(input())\n",
    "for i in range(n):\n",
    "    tc = list(input())\n",
    "    s = 0\n",
    "    x = 0\n",
    "    for i in range(len(tc)):\n",
    "        if tc[i] == 'X':\n",
    "            x = i + 1\n",
    "            continue\n",
    "        s += (i + 1) - x\n",
    "    print(s)"
   ]
  },
  {
   "cell_type": "code",
   "execution_count": 7,
   "id": "860708b9",
   "metadata": {},
   "outputs": [
    {
     "name": "stdout",
     "output_type": "stream",
     "text": [
      "5\n",
      "5 50 50 70 80 100\n",
      "40.000%\n",
      "7 100 95 90 80 70 60 50\n",
      "57.143%\n",
      "3 70 90 80\n",
      "33.333%\n",
      "3 70 90 81\n",
      "66.667%\n",
      "9 100 99 98 97 96 95 94 93 91\n",
      "55.556%\n"
     ]
    }
   ],
   "source": [
    "# 단계 7, 4344, 평균은 넘겠지\n",
    "c = int(input())\n",
    "for k in range(c):\n",
    "    result = 0\n",
    "    n = list(map(int, input().split()))\n",
    "    for i in range(1, len(n)):\n",
    "        if sum(n)/n[0]-1 < n[i]: result += 1\n",
    "    print('{:.3f}%'.format(result/n[0]*100))"
   ]
  }
 ],
 "metadata": {
  "kernelspec": {
   "display_name": "Python 3 (ipykernel)",
   "language": "python",
   "name": "python3"
  },
  "language_info": {
   "codemirror_mode": {
    "name": "ipython",
    "version": 3
   },
   "file_extension": ".py",
   "mimetype": "text/x-python",
   "name": "python",
   "nbconvert_exporter": "python",
   "pygments_lexer": "ipython3",
   "version": "3.8.11"
  }
 },
 "nbformat": 4,
 "nbformat_minor": 5
}
