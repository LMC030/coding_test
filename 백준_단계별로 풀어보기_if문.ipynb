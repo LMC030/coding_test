{
 "cells": [
  {
   "cell_type": "markdown",
   "id": "e91378ee",
   "metadata": {},
   "source": [
    "# if문"
   ]
  },
  {
   "cell_type": "code",
   "execution_count": 1,
   "id": "d26d41b2",
   "metadata": {},
   "outputs": [
    {
     "name": "stdout",
     "output_type": "stream",
     "text": [
      "1 2\n",
      "<\n"
     ]
    }
   ],
   "source": [
    "# 단계 1, 1330, 두 수 비교하기\n",
    "a, b = map(int, input().split())\n",
    "if a > b:\n",
    "    print(\">\")\n",
    "elif a == b:\n",
    "    print(\"==\")\n",
    "else:\n",
    "    print(\"<\")"
   ]
  },
  {
   "cell_type": "code",
   "execution_count": 2,
   "id": "988bb878",
   "metadata": {},
   "outputs": [
    {
     "name": "stdout",
     "output_type": "stream",
     "text": [
      "100\n",
      "A\n"
     ]
    }
   ],
   "source": [
    "# 단계 2, 9498, 시험 성적\n",
    "a = int(input())\n",
    "if a >= 90:\n",
    "    print('A')\n",
    "elif a >= 80:\n",
    "    print('B')\n",
    "elif a >= 70:\n",
    "    print('C')\n",
    "elif a >= 60:\n",
    "    print('D')\n",
    "else:\n",
    "    print('F')"
   ]
  },
  {
   "cell_type": "code",
   "execution_count": 3,
   "id": "76410973",
   "metadata": {},
   "outputs": [
    {
     "name": "stdout",
     "output_type": "stream",
     "text": [
      "1999\n",
      "0\n"
     ]
    }
   ],
   "source": [
    "# 단계 3, 2753, 윤년\n",
    "\n",
    "a = int(input())\n",
    "if (a%400==0) | ((a%4==0) & (a%100!=0)):\n",
    "    print(1)\n",
    "else:\n",
    "    print(0)"
   ]
  },
  {
   "cell_type": "code",
   "execution_count": 4,
   "id": "f15860fa",
   "metadata": {},
   "outputs": [
    {
     "name": "stdout",
     "output_type": "stream",
     "text": [
      "-12\n",
      "5\n",
      "2\n"
     ]
    }
   ],
   "source": [
    "# 단계 4, 14681, 사분면 고르기\n",
    "x = int(input())\n",
    "y = int(input())\n",
    "if x>0 and y>0:\n",
    "    print(1)\n",
    "elif x<0 and y>0:\n",
    "    print(2)\n",
    "elif x<0 and y<0:\n",
    "    print(3)\n",
    "elif x>0 and y<0:\n",
    "    print(4)"
   ]
  },
  {
   "cell_type": "code",
   "execution_count": 8,
   "id": "22cf762d",
   "metadata": {},
   "outputs": [
    {
     "name": "stdout",
     "output_type": "stream",
     "text": [
      "0 30\n",
      "0 30\n"
     ]
    }
   ],
   "source": [
    "# 단계 5, 2884, 알람 시계\n",
    "h, m = map(int, input().split())\n",
    "m = m + 45\n",
    "if m < 45:\n",
    "    if h==0:\n",
    "        h=24\n",
    "    h-=1\n",
    "    m+=15\n",
    "else:\n",
    "    m-=45\n",
    "print(h, m)"
   ]
  },
  {
   "cell_type": "code",
   "execution_count": null,
   "id": "ec9f546f",
   "metadata": {},
   "outputs": [],
   "source": []
  }
 ],
 "metadata": {
  "kernelspec": {
   "display_name": "Python 3 (ipykernel)",
   "language": "python",
   "name": "python3"
  },
  "language_info": {
   "codemirror_mode": {
    "name": "ipython",
    "version": 3
   },
   "file_extension": ".py",
   "mimetype": "text/x-python",
   "name": "python",
   "nbconvert_exporter": "python",
   "pygments_lexer": "ipython3",
   "version": "3.8.11"
  }
 },
 "nbformat": 4,
 "nbformat_minor": 5
}
