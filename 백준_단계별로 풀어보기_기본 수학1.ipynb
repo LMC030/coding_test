{
 "cells": [
  {
   "cell_type": "markdown",
   "id": "490d0bfe",
   "metadata": {},
   "source": [
    "# 기본 수학1"
   ]
  },
  {
   "cell_type": "code",
   "execution_count": 1,
   "id": "053eb05f",
   "metadata": {},
   "outputs": [
    {
     "name": "stdout",
     "output_type": "stream",
     "text": [
      "1000 70 170\n",
      "11\n"
     ]
    }
   ],
   "source": [
    "# 단계 1, 1712, 손익분기점\n",
    "num = list(map(int, input().split()))\n",
    "try : \n",
    "    result = num[0]//(num[2]-num[1])+1\n",
    "    print(-1 if result<0 else result)\n",
    "except ZeroDivisionError : print(-1)"
   ]
  },
  {
   "cell_type": "code",
   "execution_count": 2,
   "id": "9ec27a45",
   "metadata": {},
   "outputs": [
    {
     "name": "stdout",
     "output_type": "stream",
     "text": [
      "13\n",
      "3\n"
     ]
    }
   ],
   "source": [
    "# 단계 2, 2292, 벌집\n",
    "n = int(input())\n",
    "if n==1 : print(1)\n",
    "else :\n",
    "    c = 1\n",
    "    for i in range(1, n+1):\n",
    "        if n <= c:\n",
    "            print(i)\n",
    "            break\n",
    "        c += 6*i"
   ]
  },
  {
   "cell_type": "code",
   "execution_count": 3,
   "id": "e658546d",
   "metadata": {},
   "outputs": [
    {
     "name": "stdout",
     "output_type": "stream",
     "text": [
      "1\n",
      "1/1\n"
     ]
    }
   ],
   "source": [
    "# 단계 3, 1193, 분수찾기\n",
    "x = int(input())\n",
    "for k in range(x+1):\n",
    "    if k*(k-1)/2 < x <= k*(k+1)/2:\n",
    "        i = int(x - k*(k-1)/2)\n",
    "        print(f'{k-i+1}/{i}' if k%2==1 else f'{i}/{k-i+1}')\n",
    "        break"
   ]
  },
  {
   "cell_type": "code",
   "execution_count": 4,
   "id": "b6c84ab1",
   "metadata": {},
   "outputs": [
    {
     "name": "stdout",
     "output_type": "stream",
     "text": [
      "2 1 5\n",
      "4\n"
     ]
    }
   ],
   "source": [
    "# 단계 4, 2869, 달팽이는 올라가고 싶다\n",
    "import math\n",
    "a, b, v = map(int, input().split())\n",
    "print(math.ceil((v-b)/(a-b)))"
   ]
  },
  {
   "cell_type": "code",
   "execution_count": 5,
   "id": "b5ac372c",
   "metadata": {},
   "outputs": [
    {
     "name": "stdout",
     "output_type": "stream",
     "text": [
      "2\n",
      "6 12 10\n",
      "402\n",
      "30 50 72\n",
      "1203\n"
     ]
    }
   ],
   "source": [
    "# 단계 5, 10250, ACM호텔\n",
    "T = int(input())\n",
    "for t in range(T):\n",
    "    h, W, n = map(int, input().split())\n",
    "    for w in range(1, W+1):\n",
    "        if n <= h*w:\n",
    "            print(str(n-(h*(w-1)))+str(w).zfill(2))\n",
    "            break"
   ]
  },
  {
   "cell_type": "code",
   "execution_count": 6,
   "id": "05aa0046",
   "metadata": {
    "scrolled": true
   },
   "outputs": [
    {
     "name": "stdout",
     "output_type": "stream",
     "text": [
      "2\n",
      "1\n",
      "3\n",
      "6\n",
      "2\n",
      "3\n",
      "10\n"
     ]
    }
   ],
   "source": [
    "# 단계 6, 2775, 부녀회장이 될테야\n",
    "T = int(input())\n",
    "for t in range(T):\n",
    "    k = int(input())\n",
    "    n = int(input())\n",
    "    arr = [[1] for _ in range(k+1)]\n",
    "    for i in range(1, n+1):\n",
    "        arr[0].append(i+1)\n",
    "    for i in range(1, k+1):\n",
    "        for j in range(1, n):\n",
    "            arr[i].append(arr[i][j-1] + arr[i-1][j])\n",
    "    print(arr[k][n-1])"
   ]
  },
  {
   "cell_type": "code",
   "execution_count": 7,
   "id": "ee03881b",
   "metadata": {},
   "outputs": [
    {
     "name": "stdout",
     "output_type": "stream",
     "text": [
      "18\n",
      "4\n"
     ]
    }
   ],
   "source": [
    "# 단계 7, 2839, 설탕 배달\n",
    "n = int(input())\n",
    "for i in range(n+1):\n",
    "    if n - 3 * i < 0:\n",
    "        print(-1)\n",
    "        break\n",
    "    if (n - 3 * i) % 5 == 0:\n",
    "        print((n - 3 * i) // 5 + i)\n",
    "        break\n",
    "    if i == n: print(-1)"
   ]
  },
  {
   "cell_type": "code",
   "execution_count": 8,
   "id": "5e94ba5d",
   "metadata": {},
   "outputs": [
    {
     "name": "stdout",
     "output_type": "stream",
     "text": [
      "9223372036854775807 9223372036854775808\n",
      "18446744073709551615\n"
     ]
    }
   ],
   "source": [
    "# 단계 8, 10757, 큰 수 A+B\n",
    "a, b = map(int, input().split())\n",
    "print(a+b)"
   ]
  },
  {
   "cell_type": "code",
   "execution_count": 9,
   "id": "99e449d8",
   "metadata": {},
   "outputs": [
    {
     "name": "stdout",
     "output_type": "stream",
     "text": [
      "3\n",
      "0 3\n",
      "3\n",
      "1 5\n",
      "3\n",
      "45 50\n",
      "4\n"
     ]
    }
   ],
   "source": [
    "# 단계 9, 1011, Fly me to the Alpha Centauri\n",
    "import math\n",
    "T = int(input())\n",
    "for t in range(T):\n",
    "    x, y = map(int, input().split())\n",
    "    s = int(math.sqrt(y-x))\n",
    "    count = s*2 - 1\n",
    "    r = (y-x) - s**2\n",
    "    if r != 0:\n",
    "        if r <= s: count += 1\n",
    "        else: count += 2\n",
    "    print(count)"
   ]
  }
 ],
 "metadata": {
  "kernelspec": {
   "display_name": "Python 3 (ipykernel)",
   "language": "python",
   "name": "python3"
  },
  "language_info": {
   "codemirror_mode": {
    "name": "ipython",
    "version": 3
   },
   "file_extension": ".py",
   "mimetype": "text/x-python",
   "name": "python",
   "nbconvert_exporter": "python",
   "pygments_lexer": "ipython3",
   "version": "3.8.11"
  }
 },
 "nbformat": 4,
 "nbformat_minor": 5
}
