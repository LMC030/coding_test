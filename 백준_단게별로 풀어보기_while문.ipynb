{
 "cells": [
  {
   "cell_type": "markdown",
   "id": "1bc0a9fb",
   "metadata": {},
   "source": [
    "# while문 "
   ]
  },
  {
   "cell_type": "code",
   "execution_count": null,
   "id": "e17ac4eb",
   "metadata": {},
   "outputs": [],
   "source": [
    "# 단계 1, 10952, A+B-5\n",
    "while(True):\n",
    "    a, b = map(int, input().split())\n",
    "    if a == 0 and b == 0:\n",
    "        break\n",
    "    print(a+b)"
   ]
  },
  {
   "cell_type": "code",
   "execution_count": null,
   "id": "dbaca9f7",
   "metadata": {},
   "outputs": [],
   "source": [
    "# 단계 2, 10951, A+B-4\n",
    "while True:\n",
    "    try:\n",
    "        a, b = map(int, input().split())\n",
    "        print(a+b)\n",
    "    except: break"
   ]
  },
  {
   "cell_type": "code",
   "execution_count": null,
   "id": "defd20ee",
   "metadata": {},
   "outputs": [],
   "source": [
    "# 단계 3, 1110, 더하기 사이클\n",
    "n = int(input())\n",
    "cicle = 0\n",
    "k = n\n",
    "while(True):\n",
    "    k = (k%10)*10 + (k//10+k%10)%10 \n",
    "    cicle += 1\n",
    "    if k == n: break\n",
    "print(cicle)"
   ]
  }
 ],
 "metadata": {
  "kernelspec": {
   "display_name": "Python 3 (ipykernel)",
   "language": "python",
   "name": "python3"
  },
  "language_info": {
   "codemirror_mode": {
    "name": "ipython",
    "version": 3
   },
   "file_extension": ".py",
   "mimetype": "text/x-python",
   "name": "python",
   "nbconvert_exporter": "python",
   "pygments_lexer": "ipython3",
   "version": "3.8.11"
  }
 },
 "nbformat": 4,
 "nbformat_minor": 5
}
